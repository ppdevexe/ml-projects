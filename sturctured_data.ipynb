{
  "nbformat": 4,
  "nbformat_minor": 0,
  "metadata": {
    "colab": {
      "name": " sturctured data.ipynb",
      "provenance": [],
      "collapsed_sections": [],
      "authorship_tag": "ABX9TyMRO9c0KjOEHDpcYeZqwqwX",
      "include_colab_link": true
    },
    "kernelspec": {
      "name": "python3",
      "display_name": "Python 3"
    }
  },
  "cells": [
    {
      "cell_type": "markdown",
      "metadata": {
        "id": "view-in-github",
        "colab_type": "text"
      },
      "source": [
        "<a href=\"https://colab.research.google.com/github/ppdevexe/ml-projects/blob/master/sturctured_data.ipynb\" target=\"_parent\"><img src=\"https://colab.research.google.com/assets/colab-badge.svg\" alt=\"Open In Colab\"/></a>"
      ]
    },
    {
      "cell_type": "code",
      "metadata": {
        "id": "ENoIaUkQ0Zqi",
        "colab_type": "code",
        "colab": {
          "base_uri": "https://localhost:8080/",
          "height": 1000
        },
        "outputId": "052420ee-80cb-46d7-c2d4-0fc81fe0c878"
      },
      "source": [
        "!pip install  sklearn\n",
        "import numpy as np\n",
        "import pandas as pd\n",
        "\n",
        "import tensorflow as tf\n",
        "\n",
        "from tensorflow import feature_column\n",
        "from tensorflow.keras import layers\n",
        "from sklearn.model_selection import train_test_split\n",
        "URL = 'https://storage.googleapis.com/applied-dl/heart.csv'\n",
        "dataframe = pd.read_csv(URL)\n",
        "dataframe.head()\n",
        "train, test = train_test_split(dataframe, test_size=0.2)\n",
        "train, val = train_test_split(train, test_size=0.2)\n",
        "print(len(train), 'train examples')\n",
        "print(len(val), 'validation examples')\n",
        "print(len(test), 'test examples')\n",
        "def df_to_dataset(dataframe, shuffle=True, batch_size=32):\n",
        "  dataframe = dataframe.copy()\n",
        "  labels = dataframe.pop('target')\n",
        "  ds = tf.data.Dataset.from_tensor_slices((dict(dataframe), labels))\n",
        "  if shuffle:\n",
        "    ds = ds.shuffle(buffer_size=len(dataframe))\n",
        "  ds = ds.batch(batch_size)\n",
        "  return ds\n",
        "batch_size = 5 # A small batch sized is used for demonstration purposes\n",
        "train_ds = df_to_dataset(train, batch_size=batch_size)\n",
        "val_ds = df_to_dataset(val, shuffle=False, batch_size=batch_size)\n",
        "test_ds = df_to_dataset(test, shuffle=False, batch_size=batch_size)\n",
        "for feature_batch, label_batch in train_ds.take(1):\n",
        "  print('Every feature:', list(feature_batch.keys()))\n",
        "  print('A batch of ages:', feature_batch['age'])\n",
        "  print('A batch of targets:', label_batch )\n",
        "example_batch = next(iter(train_ds))[0]\n",
        "def demo(feature_column):\n",
        "  feature_layer = layers.DenseFeatures(feature_column)\n",
        "  print(feature_layer(example_batch).numpy())\n",
        "age = feature_column.numeric_column(\"age\")\n",
        "demo(age)\n",
        "age_buckets = feature_column.bucketized_column(age, boundaries=[18, 25, 30, 35, 40, 45, 50, 55, 60, 65])\n",
        "demo(age_buckets)\n",
        "thal = feature_column.categorical_column_with_vocabulary_list(\n",
        "      'thal', ['fixed', 'normal', 'reversible'])\n",
        "\n",
        "thal_one_hot = feature_column.indicator_column(thal)\n",
        "demo(thal_one_hot)\n",
        "thal_embedding = feature_column.embedding_column(thal, dimension=8)\n",
        "demo(thal_embedding)"
      ],
      "execution_count": null,
      "outputs": [
        {
          "output_type": "stream",
          "text": [
            "Requirement already satisfied: sklearn in /usr/local/lib/python3.6/dist-packages (0.0)\n",
            "Requirement already satisfied: scikit-learn in /usr/local/lib/python3.6/dist-packages (from sklearn) (0.22.2.post1)\n",
            "Requirement already satisfied: joblib>=0.11 in /usr/local/lib/python3.6/dist-packages (from scikit-learn->sklearn) (0.14.1)\n",
            "Requirement already satisfied: numpy>=1.11.0 in /usr/local/lib/python3.6/dist-packages (from scikit-learn->sklearn) (1.18.3)\n",
            "Requirement already satisfied: scipy>=0.17.0 in /usr/local/lib/python3.6/dist-packages (from scikit-learn->sklearn) (1.4.1)\n",
            "193 train examples\n",
            "49 validation examples\n",
            "61 test examples\n",
            "Every feature: ['age', 'sex', 'cp', 'trestbps', 'chol', 'fbs', 'restecg', 'thalach', 'exang', 'oldpeak', 'slope', 'ca', 'thal']\n",
            "A batch of ages: tf.Tensor([59 45 66 42 51], shape=(5,), dtype=int64)\n",
            "A batch of targets: tf.Tensor([1 0 0 0 0], shape=(5,), dtype=int64)\n",
            "WARNING:tensorflow:Layer dense_features is casting an input tensor from dtype float64 to the layer's dtype of float32, which is new behavior in TensorFlow 2.  The layer has dtype float32 because it's dtype defaults to floatx.\n",
            "\n",
            "If you intended to run this layer in float32, you can safely ignore this warning. If in doubt, this warning is likely only an issue if you are porting a TensorFlow 1.X model to TensorFlow 2.\n",
            "\n",
            "To change all layers to have dtype float64 by default, call `tf.keras.backend.set_floatx('float64')`. To change just this layer, pass dtype='float64' to the layer constructor. If you are the author of this layer, you can disable autocasting by passing autocast=False to the base Layer constructor.\n",
            "\n",
            "[[41.]\n",
            " [53.]\n",
            " [68.]\n",
            " [57.]\n",
            " [62.]]\n",
            "WARNING:tensorflow:Layer dense_features_1 is casting an input tensor from dtype float64 to the layer's dtype of float32, which is new behavior in TensorFlow 2.  The layer has dtype float32 because it's dtype defaults to floatx.\n",
            "\n",
            "If you intended to run this layer in float32, you can safely ignore this warning. If in doubt, this warning is likely only an issue if you are porting a TensorFlow 1.X model to TensorFlow 2.\n",
            "\n",
            "To change all layers to have dtype float64 by default, call `tf.keras.backend.set_floatx('float64')`. To change just this layer, pass dtype='float64' to the layer constructor. If you are the author of this layer, you can disable autocasting by passing autocast=False to the base Layer constructor.\n",
            "\n",
            "[[0. 0. 0. 0. 0. 1. 0. 0. 0. 0. 0.]\n",
            " [0. 0. 0. 0. 0. 0. 0. 1. 0. 0. 0.]\n",
            " [0. 0. 0. 0. 0. 0. 0. 0. 0. 0. 1.]\n",
            " [0. 0. 0. 0. 0. 0. 0. 0. 1. 0. 0.]\n",
            " [0. 0. 0. 0. 0. 0. 0. 0. 0. 1. 0.]]\n",
            "WARNING:tensorflow:Layer dense_features_2 is casting an input tensor from dtype float64 to the layer's dtype of float32, which is new behavior in TensorFlow 2.  The layer has dtype float32 because it's dtype defaults to floatx.\n",
            "\n",
            "If you intended to run this layer in float32, you can safely ignore this warning. If in doubt, this warning is likely only an issue if you are porting a TensorFlow 1.X model to TensorFlow 2.\n",
            "\n",
            "To change all layers to have dtype float64 by default, call `tf.keras.backend.set_floatx('float64')`. To change just this layer, pass dtype='float64' to the layer constructor. If you are the author of this layer, you can disable autocasting by passing autocast=False to the base Layer constructor.\n",
            "\n",
            "[[0. 1. 0.]\n",
            " [0. 0. 1.]\n",
            " [0. 0. 1.]\n",
            " [0. 1. 0.]\n",
            " [0. 1. 0.]]\n",
            "WARNING:tensorflow:Layer dense_features_3 is casting an input tensor from dtype float64 to the layer's dtype of float32, which is new behavior in TensorFlow 2.  The layer has dtype float32 because it's dtype defaults to floatx.\n",
            "\n",
            "If you intended to run this layer in float32, you can safely ignore this warning. If in doubt, this warning is likely only an issue if you are porting a TensorFlow 1.X model to TensorFlow 2.\n",
            "\n",
            "To change all layers to have dtype float64 by default, call `tf.keras.backend.set_floatx('float64')`. To change just this layer, pass dtype='float64' to the layer constructor. If you are the author of this layer, you can disable autocasting by passing autocast=False to the base Layer constructor.\n",
            "\n",
            "[[-0.40033424  0.06709033 -0.6130128   0.41208586 -0.48114583 -0.18511422\n",
            "   0.6719866  -0.17176268]\n",
            " [ 0.69322884 -0.08287026 -0.2119036   0.4001895   0.26444483  0.27726313\n",
            "  -0.20191064 -0.6691108 ]\n",
            " [ 0.69322884 -0.08287026 -0.2119036   0.4001895   0.26444483  0.27726313\n",
            "  -0.20191064 -0.6691108 ]\n",
            " [-0.40033424  0.06709033 -0.6130128   0.41208586 -0.48114583 -0.18511422\n",
            "   0.6719866  -0.17176268]\n",
            " [-0.40033424  0.06709033 -0.6130128   0.41208586 -0.48114583 -0.18511422\n",
            "   0.6719866  -0.17176268]]\n"
          ],
          "name": "stdout"
        }
      ]
    },
    {
      "cell_type": "code",
      "metadata": {
        "id": "sq9tuh0A5hpn",
        "colab_type": "code",
        "colab": {
          "base_uri": "https://localhost:8080/",
          "height": 54
        },
        "outputId": "6ec9ed43-e9b8-42c0-d20e-2fdf35c53520"
      },
      "source": [
        "crossed_feature=feature_column.crossed_column([age_buckets,thal],hash_bucket_size=1000)\n",
        "demo=feature_column.indicator_column(crossed_feature)\n",
        "demo0"
      ],
      "execution_count": null,
      "outputs": [
        {
          "output_type": "execute_result",
          "data": {
            "text/plain": [
              "IndicatorColumn(categorical_column=CrossedColumn(keys=(BucketizedColumn(source_column=NumericColumn(key='age', shape=(1,), default_value=None, dtype=tf.float32, normalizer_fn=None), boundaries=(18, 25, 30, 35, 40, 45, 50, 55, 60, 65)), VocabularyListCategoricalColumn(key='thal', vocabulary_list=('fixed', 'normal', 'reversible'), dtype=tf.string, default_value=-1, num_oov_buckets=0)), hash_bucket_size=1000, hash_key=None))"
            ]
          },
          "metadata": {
            "tags": []
          },
          "execution_count": 2
        }
      ]
    },
    {
      "cell_type": "code",
      "metadata": {
        "id": "9UAu4gwR6R2N",
        "colab_type": "code",
        "colab": {}
      },
      "source": [
        "feature_columns=[]\n",
        "for header in['age','trestbps','chol','thalach','oldpeak','slope','ca']:\n",
        "  feature_columns.append(feature_column.numeric_column(header))\n",
        "age_buckets=feature_column.bucketized_column(age,boundaries=[18,20,30,35,40,45,50,55,60,65])\n",
        "feature_columns.append(age_buckets)\n"
      ],
      "execution_count": null,
      "outputs": []
    },
    {
      "cell_type": "code",
      "metadata": {
        "id": "otcnr5s87wwu",
        "colab_type": "code",
        "colab": {}
      },
      "source": [
        "\n",
        "# indicator cols\n",
        "thal = feature_column.categorical_column_with_vocabulary_list(\n",
        "      'thal', ['fixed', 'normal', 'reversible'])\n",
        "thal_one_hot = feature_column.indicator_column(thal)\n",
        "feature_columns.append(thal_one_hot)\n",
        "\n",
        "# embedding cols\n",
        "thal_embedding = feature_column.embedding_column(thal, dimension=8)\n",
        "feature_columns.append(thal_embedding)\n",
        "\n",
        "# crossed cols\n",
        "crossed_feature = feature_column.crossed_column([age_buckets, thal], hash_bucket_size=1000)\n",
        "crossed_feature = feature_column.indicator_column(crossed_feature)\n",
        "feature_columns.append(crossed_feature)"
      ],
      "execution_count": null,
      "outputs": []
    },
    {
      "cell_type": "code",
      "metadata": {
        "id": "7Z5OVP9x-qaO",
        "colab_type": "code",
        "colab": {}
      },
      "source": [
        "feature_layer=tf.keras.layers.DenseFeatures(feature_columns)"
      ],
      "execution_count": null,
      "outputs": []
    },
    {
      "cell_type": "code",
      "metadata": {
        "id": "BxVwcmas_W9a",
        "colab_type": "code",
        "colab": {}
      },
      "source": [
        "train_ds=df_to_dataset(train,batch_size=32)\n",
        "val_ds=df_to_dataset(val,batch_size=32)\n",
        "test_ds=df_to_dataset(test,batch_size=32)"
      ],
      "execution_count": null,
      "outputs": []
    },
    {
      "cell_type": "code",
      "metadata": {
        "id": "Og7ZnfVq_3MO",
        "colab_type": "code",
        "colab": {
          "base_uri": "https://localhost:8080/",
          "height": 339
        },
        "outputId": "5669f3ea-b972-4ef0-cb0b-95b39da3d271"
      },
      "source": [
        "model=tf.keras.Sequential([feature_layer,layers.Dense(1,activation='sigmoid')])\n",
        "model.compile(optimizer='adam',loss='binary_crossentropy',metrics=['accuracy'],run_eagerly=True)\n",
        "model.fit(train_ds,validation_data=val_ds,epochs=5)\n",
        "loss,accuracy=model.evaluate(test_ds)\n",
        "print(\"accuracy\",accuracy)"
      ],
      "execution_count": null,
      "outputs": [
        {
          "output_type": "stream",
          "text": [
            "Epoch 1/5\n",
            "WARNING:tensorflow:Layer dense_features_4 is casting an input tensor from dtype float64 to the layer's dtype of float32, which is new behavior in TensorFlow 2.  The layer has dtype float32 because it's dtype defaults to floatx.\n",
            "\n",
            "If you intended to run this layer in float32, you can safely ignore this warning. If in doubt, this warning is likely only an issue if you are porting a TensorFlow 1.X model to TensorFlow 2.\n",
            "\n",
            "To change all layers to have dtype float64 by default, call `tf.keras.backend.set_floatx('float64')`. To change just this layer, pass dtype='float64' to the layer constructor. If you are the author of this layer, you can disable autocasting by passing autocast=False to the base Layer constructor.\n",
            "\n",
            "7/7 [==============================] - 0s 27ms/step - loss: 3.9559 - accuracy: 0.7358 - val_loss: 3.3507 - val_accuracy: 0.6735\n",
            "Epoch 2/5\n",
            "7/7 [==============================] - 0s 24ms/step - loss: 1.6661 - accuracy: 0.7306 - val_loss: 1.9337 - val_accuracy: 0.6735\n",
            "Epoch 3/5\n",
            "7/7 [==============================] - 0s 25ms/step - loss: 1.0802 - accuracy: 0.7202 - val_loss: 1.0169 - val_accuracy: 0.6327\n",
            "Epoch 4/5\n",
            "7/7 [==============================] - 0s 26ms/step - loss: 0.9159 - accuracy: 0.5907 - val_loss: 1.0051 - val_accuracy: 0.5102\n",
            "Epoch 5/5\n",
            "7/7 [==============================] - 0s 24ms/step - loss: 0.9327 - accuracy: 0.5648 - val_loss: 0.9427 - val_accuracy: 0.6122\n",
            "2/2 [==============================] - 0s 9ms/step - loss: 0.9598 - accuracy: 0.6066\n",
            "accuracy 0.6065573692321777\n"
          ],
          "name": "stdout"
        }
      ]
    },
    {
      "cell_type": "code",
      "metadata": {
        "id": "Gv14X4XzC2ID",
        "colab_type": "code",
        "colab": {
          "base_uri": "https://localhost:8080/",
          "height": 202
        },
        "outputId": "cff919e0-efc8-4155-e1bb-2b3ed1a50e3b"
      },
      "source": [
        "model_nn=tf.keras.Sequential([feature_layer,layers.Dense(128,activation='relu'),\n",
        "                              layers.Dense(128,activation='relu'),\n",
        "                              layers.Dense(1,activation='sigmoid')])\n",
        "model_nn.compile(optimizer='adam',loss='binary_crossentropy',metrics=['accuracy'],run_eagerly=True)\n",
        "model_nn.fit(train_ds,validation_data=val_ds,epochs=5)\n"
      ],
      "execution_count": null,
      "outputs": [
        {
          "output_type": "stream",
          "text": [
            "Epoch 1/5\n",
            "7/7 [==============================] - 0s 32ms/step - loss: 1.5406 - accuracy: 0.5544 - val_loss: 2.2266 - val_accuracy: 0.6735\n",
            "Epoch 2/5\n",
            "7/7 [==============================] - 0s 31ms/step - loss: 1.0941 - accuracy: 0.6010 - val_loss: 0.6589 - val_accuracy: 0.6939\n",
            "Epoch 3/5\n",
            "7/7 [==============================] - 0s 30ms/step - loss: 0.5628 - accuracy: 0.7565 - val_loss: 0.4616 - val_accuracy: 0.7755\n",
            "Epoch 4/5\n",
            "7/7 [==============================] - 0s 30ms/step - loss: 0.5032 - accuracy: 0.7098 - val_loss: 0.8116 - val_accuracy: 0.6735\n",
            "Epoch 5/5\n",
            "7/7 [==============================] - 0s 34ms/step - loss: 0.5415 - accuracy: 0.7306 - val_loss: 0.7192 - val_accuracy: 0.6735\n"
          ],
          "name": "stdout"
        },
        {
          "output_type": "execute_result",
          "data": {
            "text/plain": [
              "<tensorflow.python.keras.callbacks.History at 0x7fbc2aee1898>"
            ]
          },
          "metadata": {
            "tags": []
          },
          "execution_count": 13
        }
      ]
    },
    {
      "cell_type": "code",
      "metadata": {
        "id": "8MTK09HQELkp",
        "colab_type": "code",
        "colab": {
          "base_uri": "https://localhost:8080/",
          "height": 302
        },
        "outputId": "e6c1510d-ca6b-45f6-e396-3ceb74cda19c"
      },
      "source": [
        "print(model_nn.summary())"
      ],
      "execution_count": null,
      "outputs": [
        {
          "output_type": "stream",
          "text": [
            "Model: \"sequential_2\"\n",
            "_________________________________________________________________\n",
            "Layer (type)                 Output Shape              Param #   \n",
            "=================================================================\n",
            "dense_features_4 (DenseFeatu multiple                  24        \n",
            "_________________________________________________________________\n",
            "dense_4 (Dense)              multiple                  131840    \n",
            "_________________________________________________________________\n",
            "dense_5 (Dense)              multiple                  16512     \n",
            "_________________________________________________________________\n",
            "dense_6 (Dense)              multiple                  129       \n",
            "=================================================================\n",
            "Total params: 148,505\n",
            "Trainable params: 148,505\n",
            "Non-trainable params: 0\n",
            "_________________________________________________________________\n",
            "None\n"
          ],
          "name": "stdout"
        }
      ]
    }
  ]
}