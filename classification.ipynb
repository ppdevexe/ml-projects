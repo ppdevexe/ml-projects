{
  "nbformat": 4,
  "nbformat_minor": 0,
  "metadata": {
    "colab": {
      "name": "classification.ipynb",
      "provenance": [],
      "authorship_tag": "ABX9TyPnEZn1FU9/B7EyvsCsb/6m",
      "include_colab_link": true
    },
    "kernelspec": {
      "name": "python3",
      "display_name": "Python 3"
    }
  },
  "cells": [
    {
      "cell_type": "markdown",
      "metadata": {
        "id": "view-in-github",
        "colab_type": "text"
      },
      "source": [
        "<a href=\"https://colab.research.google.com/github/ppdevexe/ml-projects/blob/master/classification.ipynb\" target=\"_parent\"><img src=\"https://colab.research.google.com/assets/colab-badge.svg\" alt=\"Open In Colab\"/></a>"
      ]
    },
    {
      "cell_type": "code",
      "metadata": {
        "id": "xIN7NbzgPs18",
        "colab_type": "code",
        "colab": {}
      },
      "source": [
        "import tensorflow as tf\n",
        "from tensorflow import keras\n",
        "import numpy as np\n",
        "import matplotlib.pyplot as plt"
      ],
      "execution_count": null,
      "outputs": []
    },
    {
      "cell_type": "code",
      "metadata": {
        "id": "RoPI6396P8nd",
        "colab_type": "code",
        "colab": {}
      },
      "source": [
        "from keras.datasets import reuters\n",
        "(train_data,train_labels),(test_data,test_labels)=reuters.load_data(num_words=10000) "
      ],
      "execution_count": null,
      "outputs": []
    },
    {
      "cell_type": "code",
      "metadata": {
        "id": "lJbN8OvKQdCw",
        "colab_type": "code",
        "colab": {}
      },
      "source": [
        "def vectorize_sequences(sequences,dimension=10000):\n",
        "  results=np.zeros((len(sequences),dimension))\n",
        "  for i,sequence in enumerate(sequences):\n",
        "    results[i,sequence]=1.\n",
        "  return results\n",
        "x_train=vectorize_sequences(train_data)\n",
        "x_test=vectorize_sequences(test_data)"
      ],
      "execution_count": null,
      "outputs": []
    },
    {
      "cell_type": "code",
      "metadata": {
        "id": "r82iHvZjR3u3",
        "colab_type": "code",
        "colab": {}
      },
      "source": [
        "def to_one_hot(labels, dimension=46):\n",
        "  results = np.zeros((len(labels), dimension))\n",
        "  for i, label in enumerate(labels):\n",
        "    results[i, label] = 1.\n",
        "  return results\n",
        "one_hot_train_labels = to_one_hot(train_labels)\n",
        "one_hot_test_labels = to_one_hot(test_labels)"
      ],
      "execution_count": null,
      "outputs": []
    },
    {
      "cell_type": "code",
      "metadata": {
        "id": "q4lxdodtUJ2m",
        "colab_type": "code",
        "colab": {}
      },
      "source": [
        "from keras import models\n",
        "from keras import layers\n",
        "model = models.Sequential()\n",
        "model.add(layers.Dense(64, activation='relu', input_shape=(10000,)))\n",
        "model.add(layers.Dense(64, activation='relu'))\n",
        "model.add(layers.Dense(46, activation='softmax'))"
      ],
      "execution_count": null,
      "outputs": []
    },
    {
      "cell_type": "code",
      "metadata": {
        "id": "SlZ7pZD6WA3L",
        "colab_type": "code",
        "colab": {}
      },
      "source": [
        "model.compile(optimizer='rmsprop',\n",
        "              loss='categorical_crossentropy'\n",
        "              ,metrics=['accuracy'])"
      ],
      "execution_count": null,
      "outputs": []
    },
    {
      "cell_type": "code",
      "metadata": {
        "id": "uya81B8EXImb",
        "colab_type": "code",
        "colab": {}
      },
      "source": [
        "x_val = x_train[:1000]\n",
        "partial_x_train = x_train[1000:]\n",
        "y_val = one_hot_train_labels[:1000]\n",
        "partial_y_train = one_hot_train_labels[1000:]"
      ],
      "execution_count": null,
      "outputs": []
    },
    {
      "cell_type": "code",
      "metadata": {
        "id": "1minMKM3XLp6",
        "colab_type": "code",
        "colab": {
          "base_uri": "https://localhost:8080/",
          "height": 706
        },
        "outputId": "6022ebd3-df1e-4e11-873c-0bfb20c5da72"
      },
      "source": [
        "history=model.fit(partial_x_train,\n",
        "                  partial_y_train,\n",
        "                  epochs=20,\n",
        "                  batch_size=512,\n",
        "                  validation_data=(x_val,y_val))"
      ],
      "execution_count": null,
      "outputs": [
        {
          "output_type": "stream",
          "text": [
            "Train on 7982 samples, validate on 1000 samples\n",
            "Epoch 1/20\n",
            "7982/7982 [==============================] - 1s 144us/step - loss: 2.7099 - accuracy: 0.5293 - val_loss: 1.8188 - val_accuracy: 0.6350\n",
            "Epoch 2/20\n",
            "7982/7982 [==============================] - 1s 98us/step - loss: 1.4549 - accuracy: 0.6968 - val_loss: 1.3284 - val_accuracy: 0.6970\n",
            "Epoch 3/20\n",
            "7982/7982 [==============================] - 1s 101us/step - loss: 1.0595 - accuracy: 0.7732 - val_loss: 1.1310 - val_accuracy: 0.7630\n",
            "Epoch 4/20\n",
            "7982/7982 [==============================] - 1s 103us/step - loss: 0.8326 - accuracy: 0.8274 - val_loss: 1.0315 - val_accuracy: 0.7860\n",
            "Epoch 5/20\n",
            "7982/7982 [==============================] - 1s 104us/step - loss: 0.6641 - accuracy: 0.8634 - val_loss: 1.0042 - val_accuracy: 0.7980\n",
            "Epoch 6/20\n",
            "7982/7982 [==============================] - 1s 104us/step - loss: 0.5351 - accuracy: 0.8876 - val_loss: 0.9250 - val_accuracy: 0.8050\n",
            "Epoch 7/20\n",
            "7982/7982 [==============================] - 1s 103us/step - loss: 0.4318 - accuracy: 0.9092 - val_loss: 0.9259 - val_accuracy: 0.8070\n",
            "Epoch 8/20\n",
            "7982/7982 [==============================] - 1s 103us/step - loss: 0.3532 - accuracy: 0.9211 - val_loss: 0.9109 - val_accuracy: 0.8090\n",
            "Epoch 9/20\n",
            "7982/7982 [==============================] - 1s 108us/step - loss: 0.2890 - accuracy: 0.9377 - val_loss: 0.9379 - val_accuracy: 0.7920\n",
            "Epoch 10/20\n",
            "7982/7982 [==============================] - 1s 106us/step - loss: 0.2426 - accuracy: 0.9436 - val_loss: 0.9141 - val_accuracy: 0.8060\n",
            "Epoch 11/20\n",
            "7982/7982 [==============================] - 1s 106us/step - loss: 0.2092 - accuracy: 0.9479 - val_loss: 0.9278 - val_accuracy: 0.8100\n",
            "Epoch 12/20\n",
            "7982/7982 [==============================] - 1s 107us/step - loss: 0.1884 - accuracy: 0.9516 - val_loss: 0.9317 - val_accuracy: 0.8040\n",
            "Epoch 13/20\n",
            "7982/7982 [==============================] - 1s 107us/step - loss: 0.1631 - accuracy: 0.9536 - val_loss: 0.9853 - val_accuracy: 0.7960\n",
            "Epoch 14/20\n",
            "7982/7982 [==============================] - 1s 109us/step - loss: 0.1521 - accuracy: 0.9531 - val_loss: 0.9953 - val_accuracy: 0.7980\n",
            "Epoch 15/20\n",
            "7982/7982 [==============================] - 1s 107us/step - loss: 0.1363 - accuracy: 0.9562 - val_loss: 1.0191 - val_accuracy: 0.8000\n",
            "Epoch 16/20\n",
            "7982/7982 [==============================] - 1s 107us/step - loss: 0.1304 - accuracy: 0.9567 - val_loss: 1.0630 - val_accuracy: 0.7950\n",
            "Epoch 17/20\n",
            "7982/7982 [==============================] - 1s 107us/step - loss: 0.1214 - accuracy: 0.9575 - val_loss: 1.0287 - val_accuracy: 0.8010\n",
            "Epoch 18/20\n",
            "7982/7982 [==============================] - 1s 106us/step - loss: 0.1196 - accuracy: 0.9579 - val_loss: 1.0649 - val_accuracy: 0.8080\n",
            "Epoch 19/20\n",
            "7982/7982 [==============================] - 1s 105us/step - loss: 0.1139 - accuracy: 0.9565 - val_loss: 1.0803 - val_accuracy: 0.7990\n",
            "Epoch 20/20\n",
            "7982/7982 [==============================] - 1s 105us/step - loss: 0.1122 - accuracy: 0.9574 - val_loss: 1.0832 - val_accuracy: 0.8060\n"
          ],
          "name": "stdout"
        }
      ]
    },
    {
      "cell_type": "code",
      "metadata": {
        "id": "U9V3tFq6XlEs",
        "colab_type": "code",
        "colab": {
          "base_uri": "https://localhost:8080/",
          "height": 295
        },
        "outputId": "8ad559ab-6754-4148-aa37-3126b004053a"
      },
      "source": [
        "import matplotlib.pyplot as plt\n",
        "loss = history.history['loss']\n",
        "val_loss = history.history['val_loss']\n",
        "epochs = range(1, len(loss) + 1)\n",
        "plt.plot(epochs, loss, 'bo', label='Training loss')\n",
        "plt.plot(epochs, val_loss, 'b', label='Validation loss')\n",
        "plt.title('Training and validation loss')\n",
        "plt.xlabel('Epochs')\n",
        "plt.ylabel('Loss')\n",
        "plt.legend()\n",
        "plt.show()"
      ],
      "execution_count": null,
      "outputs": [
        {
          "output_type": "display_data",
          "data": {
            "image/png": "[encoded data removed]",
            "text/plain": [
              "<Figure size 432x288 with 1 Axes>"
            ]
          },
          "metadata": {
            "tags": [],
            "needs_background": "light"
          }
        }
      ]
    },
    {
      "cell_type": "code",
      "metadata": {
        "id": "t8H8G4Fcwltq",
        "colab_type": "code",
        "colab": {
          "base_uri": "https://localhost:8080/",
          "height": 1000
        },
        "outputId": "4632a356-dd32-4158-d68f-b5569ab5e3da"
      },
      "source": [
        "history_dict=history.history\n",
        "history_dict"
      ],
      "execution_count": null,
      "outputs": [
        {
          "output_type": "execute_result",
          "data": {
            "text/plain": [
              "{'accuracy': [0.52931595,\n",
              "  0.6968178,\n",
              "  0.7732398,\n",
              "  0.8273616,\n",
              "  0.8634427,\n",
              "  0.8876222,\n",
              "  0.9091706,\n",
              "  0.9210724,\n",
              "  0.9377349,\n",
              "  0.9436231,\n",
              "  0.9478827,\n",
              "  0.9516412,\n",
              "  0.9536457,\n",
              "  0.95314455,\n",
              "  0.95615137,\n",
              "  0.95665246,\n",
              "  0.9575294,\n",
              "  0.9579053,\n",
              "  0.9565272,\n",
              "  0.95740414],\n",
              " 'loss': [2.7098628759563375,\n",
              "  1.4549261476724138,\n",
              "  1.059543227901497,\n",
              "  0.8325665342691279,\n",
              "  0.6641044808610942,\n",
              "  0.5350720891227283,\n",
              "  0.4317961608189683,\n",
              "  0.35316851822483425,\n",
              "  0.28899568529900854,\n",
              "  0.2425636247498623,\n",
              "  0.2092343485615242,\n",
              "  0.18841397865721826,\n",
              "  0.16309192112456344,\n",
              "  0.1521483704959262,\n",
              "  0.13629055504466142,\n",
              "  0.13039538291157174,\n",
              "  0.12140316635079026,\n",
              "  0.11962445134792193,\n",
              "  0.11392365891110237,\n",
              "  0.11224985769542647],\n",
              " 'val_accuracy': [0.6349999904632568,\n",
              "  0.6970000267028809,\n",
              "  0.7630000114440918,\n",
              "  0.7860000133514404,\n",
              "  0.7979999780654907,\n",
              "  0.8050000071525574,\n",
              "  0.8069999814033508,\n",
              "  0.8090000152587891,\n",
              "  0.7919999957084656,\n",
              "  0.8059999942779541,\n",
              "  0.8100000023841858,\n",
              "  0.8040000200271606,\n",
              "  0.7960000038146973,\n",
              "  0.7979999780654907,\n",
              "  0.800000011920929,\n",
              "  0.7950000166893005,\n",
              "  0.8009999990463257,\n",
              "  0.8080000281333923,\n",
              "  0.7990000247955322,\n",
              "  0.8059999942779541],\n",
              " 'val_loss': [1.8188181114196778,\n",
              "  1.328405156135559,\n",
              "  1.1310186443328858,\n",
              "  1.0314912958145142,\n",
              "  1.0042144680023193,\n",
              "  0.9250491628646851,\n",
              "  0.9259177231788636,\n",
              "  0.9108755297660828,\n",
              "  0.9378631296157837,\n",
              "  0.9141266760826111,\n",
              "  0.9277570495605468,\n",
              "  0.9316713447570801,\n",
              "  0.9852783527374268,\n",
              "  0.9952922773361206,\n",
              "  1.0190802583694458,\n",
              "  1.06299995803833,\n",
              "  1.028745792388916,\n",
              "  1.0649372844696046,\n",
              "  1.080303053855896,\n",
              "  1.083245400428772]}"
            ]
          },
          "metadata": {
            "tags": []
          },
          "execution_count": 24
        }
      ]
    },
    {
      "cell_type": "code",
      "metadata": {
        "id": "5xPL1S9aXxut",
        "colab_type": "code",
        "colab": {
          "base_uri": "https://localhost:8080/",
          "height": 295
        },
        "outputId": "4b5c0c8f-bf27-4c28-a12a-5c65e1757dd3"
      },
      "source": [
        "plt.clf()\n",
        "acc = history.history['accuracy']\n",
        "val_acc = history.history['val_accuracy']\n",
        "plt.plot(epochs, acc, 'bo', label='Training acc')\n",
        "plt.plot(epochs, val_acc, 'b', label='Validation acc')\n",
        "plt.title('Training and validation accuracy')\n",
        "plt.xlabel('Epochs')\n",
        "plt.ylabel('Loss')\n",
        "plt.legend()\n",
        "plt.show()"
      ],
      "execution_count": null,
      "outputs": [
        {
          "output_type": "display_data",
          "data": {
            "image/png": "[encoded data removed]",
            "text/plain": [
              "<Figure size 432x288 with 1 Axes>"
            ]
          },
          "metadata": {
            "tags": [],
            "needs_background": "light"
          }
        }
      ]
    },
    {
      "cell_type": "code",
      "metadata": {
        "id": "eY-RvCYBwcT7",
        "colab_type": "code",
        "colab": {
          "base_uri": "https://localhost:8080/",
          "height": 353
        },
        "outputId": "085d11a1-6694-4dbe-99da-5fd1ee009243"
      },
      "source": [
        "model = models.Sequential()\n",
        "model.add(layers.Dense(64, activation='relu', input_shape=(10000,)))\n",
        "model.add(layers.Dense(64, activation='relu'))\n",
        "model.add(layers.Dense(46, activation='softmax'))\n",
        "model.compile(optimizer='rmsprop',\n",
        "loss='categorical_crossentropy',\n",
        "metrics=['accuracy'])\n",
        "model.fit(partial_x_train,\n",
        "partial_y_train,\n",
        "epochs=9,\n",
        "batch_size=512,\n",
        "validation_data=(x_val, y_val))\n",
        "results = model.evaluate(x_test, one_hot_test_labels)"
      ],
      "execution_count": null,
      "outputs": [
        {
          "output_type": "stream",
          "text": [
            "Train on 7982 samples, validate on 1000 samples\n",
            "Epoch 1/9\n",
            "7982/7982 [==============================] - 1s 176us/step - loss: 2.5314 - accuracy: 0.5170 - val_loss: 1.6688 - val_accuracy: 0.6350\n",
            "Epoch 2/9\n",
            "7982/7982 [==============================] - 1s 111us/step - loss: 1.3729 - accuracy: 0.6946 - val_loss: 1.2747 - val_accuracy: 0.7150\n",
            "Epoch 3/9\n",
            "7982/7982 [==============================] - 1s 111us/step - loss: 1.0234 - accuracy: 0.7731 - val_loss: 1.1231 - val_accuracy: 0.7490\n",
            "Epoch 4/9\n",
            "7982/7982 [==============================] - 1s 109us/step - loss: 0.8121 - accuracy: 0.8240 - val_loss: 1.0276 - val_accuracy: 0.7820\n",
            "Epoch 5/9\n",
            "7982/7982 [==============================] - 1s 111us/step - loss: 0.6485 - accuracy: 0.8632 - val_loss: 0.9738 - val_accuracy: 0.7920\n",
            "Epoch 6/9\n",
            "7982/7982 [==============================] - 1s 109us/step - loss: 0.5151 - accuracy: 0.8898 - val_loss: 0.9331 - val_accuracy: 0.8020\n",
            "Epoch 7/9\n",
            "7982/7982 [==============================] - 1s 110us/step - loss: 0.4157 - accuracy: 0.9126 - val_loss: 0.9184 - val_accuracy: 0.8040\n",
            "Epoch 8/9\n",
            "7982/7982 [==============================] - 1s 111us/step - loss: 0.3377 - accuracy: 0.9285 - val_loss: 0.8781 - val_accuracy: 0.8220\n",
            "Epoch 9/9\n",
            "7982/7982 [==============================] - 1s 111us/step - loss: 0.2757 - accuracy: 0.9376 - val_loss: 0.9332 - val_accuracy: 0.8070\n",
            "2246/2246 [==============================] - 0s 128us/step\n"
          ],
          "name": "stdout"
        }
      ]
    },
    {
      "cell_type": "code",
      "metadata": {
        "id": "IL2WNHsmxCm2",
        "colab_type": "code",
        "colab": {}
      },
      "source": [
        "predictions=model.predict(x_test)"
      ],
      "execution_count": null,
      "outputs": []
    },
    {
      "cell_type": "code",
      "metadata": {
        "id": "1MvD1I-WxcnG",
        "colab_type": "code",
        "colab": {
          "base_uri": "https://localhost:8080/",
          "height": 34
        },
        "outputId": "b835b98e-c7cc-4e87-c783-72c7dff2306e"
      },
      "source": [
        "predictions[0].shape"
      ],
      "execution_count": null,
      "outputs": [
        {
          "output_type": "execute_result",
          "data": {
            "text/plain": [
              "(46,)"
            ]
          },
          "metadata": {
            "tags": []
          },
          "execution_count": 30
        }
      ]
    },
    {
      "cell_type": "code",
      "metadata": {
        "id": "lVQLV1kqxhs8",
        "colab_type": "code",
        "colab": {}
      },
      "source": [
        "y_train=np.array(train_labels)\n",
        "y_test=np.array(test_labels)"
      ],
      "execution_count": null,
      "outputs": []
    },
    {
      "cell_type": "code",
      "metadata": {
        "id": "g5SdwlWKx1RE",
        "colab_type": "code",
        "colab": {
          "base_uri": "https://localhost:8080/",
          "height": 128
        },
        "outputId": "fa1caaec-66a1-45b0-a2cf-1b907b01f3b5"
      },
      "source": [
        "model.compile(optimizer='rmsprop',\n",
        "              loss='sparse_categorical_crossentropy'\n",
        "              metrics=['accuracy'])"
      ],
      "execution_count": null,
      "outputs": [
        {
          "output_type": "error",
          "ename": "SyntaxError",
          "evalue": "ignored",
          "traceback": [
            "\u001b[0;36m  File \u001b[0;32m\"<ipython-input-32-e5c30a245d8f>\"\u001b[0;36m, line \u001b[0;32m3\u001b[0m\n\u001b[0;31m    metrics=['accuracy'])\u001b[0m\n\u001b[0m          ^\u001b[0m\n\u001b[0;31mSyntaxError\u001b[0m\u001b[0;31m:\u001b[0m invalid syntax\n"
          ]
        }
      ]
    },
    {
      "cell_type": "code",
      "metadata": {
        "id": "_bLdvkOOyG5n",
        "colab_type": "code",
        "colab": {}
      },
      "source": [
        ""
      ],
      "execution_count": null,
      "outputs": []
    }
  ]
}